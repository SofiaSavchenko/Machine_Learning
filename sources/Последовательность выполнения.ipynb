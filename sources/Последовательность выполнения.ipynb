{
  "nbformat": 4,
  "nbformat_minor": 0,
  "metadata": {
    "colab": {
      "provenance": []
    },
    "kernelspec": {
      "name": "python3",
      "display_name": "Python 3"
    },
    "language_info": {
      "name": "python"
    }
  },
  "cells": [
    {
      "cell_type": "markdown",
      "source": [
        "# Выполнение проекта (Технологии анализа данных на Python)"
      ],
      "metadata": {
        "id": "mF_AyhvGgZZX"
      }
    },
    {
      "cell_type": "markdown",
      "source": [
        "## Анализ и предварительная обработка данных\n",
        "\n",
        "Пример работы: https://colab.research.google.com/drive/125y5Ezx-p2ycIOnR-4EsQUvXbVlqTZEz?usp=sharing\n",
        "\n",
        "1. Загрузить датасет\n",
        "2. Проанализировать данные\n",
        "- Вывести информацию о датасете\n",
        "- Вывести описательную статистику датасета\n",
        "- Построить графики\n",
        "3. Обработать числовых колонок\n",
        "  1. Заполнить пропуски (средним, либо алгоритмом / моделью)\n",
        "4. Обработать категориальных значений\n",
        "  1. Обработать биномиальных (булевых) колонок\n",
        "    - Заполнить пропуски (мода)\n",
        "  2. Обработать колонок, содержащих множественные значения\n",
        "    - Различные методы, в том числе разделение одной колонки на несколько\n",
        "    - Далее проработать как с другими типами колонок\n",
        "  3. Категориальные колонки\n",
        "    - Заполнить пропуски (обычно мода)\n",
        "    - Привести к числовой форме (`mapping` или `pd.get_dummies`, остальное - реже)\n",
        "5. Проверить, что все пропуски заполнены и все значения числовые (`uint8`, `int32`, `float64`)\n",
        "6. Сохранить датасет\n"
      ],
      "metadata": {
        "id": "OCTeAh7jpMV9"
      }
    },
    {
      "cell_type": "markdown",
      "source": [
        "## Моделирование (Обучение и оценивание моделей)\n",
        "\n",
        "Пример работы 1 (подготовка данных + все модели, кроме нейронной сети): https://colab.research.google.com/drive/1LGtK1FeSAJWkMOvfOr6wwuxhCZENrzaj?usp=sharing\n",
        "\n",
        "Пример работы 2 (нейронные сети для решения задач регрессии и классификации): https://colab.research.google.com/drive/1x4og6moQ4__bV6kF-SOmOOA4AYBUaB8i?usp=sharing\n",
        "\n",
        "\n",
        "---\n",
        "\n",
        "\n",
        "\n",
        "1. Загрузить предобработанные данные в формате csv с помощью pandas.\n",
        "2. Выделить целевой признак: получить столбец y и матрицу X из датасета.\n",
        "3. Разбить данные на обучающую и тестирующую выборки с помощью [train_test_split](https://scikit-learn.org/stable/modules/generated/sklearn.model_selection.train_test_split.html).\n",
        "4. Провести масштабирование данных (только X_train и X_test) с помощью [StandartScaller](https://scikit-learn.org/stable/modules/generated/sklearn.preprocessing.StandardScaler.html) (или [MinMaxScaller](https://scikit-learn.org/stable/modules/generated/sklearn.preprocessing.MinMaxScaler.html), по вашему желанию).\n",
        "5. Обучить следующие модели (**для каждой из них [подобрать гиперпараметры](https://scikit-learn.org/stable/modules/generated/sklearn.model_selection.GridSearchCV.html) - хотя бы по одному для каждой модели**):\n",
        "\n",
        "  **- для задачи регрессии:**\n",
        "    - [Lasso](https://scikit-learn.org/stable/modules/generated/sklearn.linear_model.Lasso.html) - линейная регрессия с L1-регуляризацией;\n",
        "    - [Ridge](https://scikit-learn.org/stable/modules/generated/sklearn.linear_model.Ridge.html) - линейная регрессия с L2-регуляризацией;\n",
        "    - [DecisionTreeRegressor](https://scikit-learn.org/stable/modules/generated/sklearn.tree.DecisionTreeRegressor.html#sklearn.tree.DecisionTreeRegressor) - регрессор на основе дерева решений;\n",
        "    - [BaggingRegressor](https://scikit-learn.org/stable/modules/generated/sklearn.ensemble.BaggingRegressor.html) - регрессор на основе ансамбля деревьев, обученного с помощью бэггинга;\n",
        "    - [Полносвязная нейронная сеть](https://www.tensorflow.org/tutorials/keras/regression#regression_with_a_deep_neural_network_dnn) - с помощью TensorFlow, см. пример выше;\n",
        "    \n",
        "  **- для задачи классификации:**\n",
        "    - [KNN](https://scikit-learn.org/stable/modules/generated/sklearn.neighbors.KNeighborsClassifier.html) - k ближайших соседей;\n",
        "    - [LogisticRegression](https://scikit-learn.org/stable/modules/generated/sklearn.linear_model.LogisticRegression.html) - логистическая регрессия;\n",
        "    - [DecisionTreeClassifier](https://scikit-learn.org/stable/modules/generated/sklearn.tree.DecisionTreeClassifier.html) - классификатор на основе дерева решений;\n",
        "    - [BaggingClassifier](https://scikit-learn.org/stable/modules/generated/sklearn.ensemble.BaggingClassifier.html) - классификатор на основе ансамбля деревьев, обученного с помощью бэггинга;\n",
        "    - [Полносвязная нейронная сеть](https://towardsdatascience.com/how-to-train-a-classification-model-with-tensorflow-in-10-minutes-fd2b7cfba86) - с помощью TensorFlow, см. пример выше\n",
        "6. Оценить все построенные модели с использованием метрик:\n",
        "\n",
        "  **- для задачи регрессии:**\n",
        "    - [MAE](https://scikit-learn.org/stable/modules/generated/sklearn.metrics.mean_absolute_error.html) - средняя абсолюбная ошибка;\n",
        "    - [MSE](https://scikit-learn.org/stable/modules/generated/sklearn.metrics.mean_squared_error.html) - средняя квадратичная ошибка;\n",
        "    - коэффициент детерминации (с помощью вызова метода score, как в примерах);\n",
        "\n",
        "   **- для задачи классификации:**\n",
        "    - [confusion matrix](https://scikit-learn.org/stable/modules/generated/sklearn.metrics.confusion_matrix.html) - матрица путаницы;\n",
        "    - [classification report](https://scikit-learn.org/stable/modules/generated/sklearn.metrics.classification_report.html) - отчет о классификации (модели оценивать рекомендуется по среднему значению метрики F1).\n",
        "\n",
        "7. Выбрать на основе значений метрик лучшую модель (напоминаю, что **чем больше коэффициент детерминации - тем лучше для регрессии**; **чем больше F1 - тем лучше для классификации**).\n",
        "8. Сохранить на диск лучшую из всех моделей для дальнейшего использования ее в дашборде (если вы обучали модели в Colab, самым удобным вариантом является подключение Google Drive и сохранение модели туда)."
      ],
      "metadata": {
        "id": "5Rxm7zdJgjPW"
      }
    },
    {
      "cell_type": "markdown",
      "source": [
        "## Инференс (создание дашборда с использованием выбранной модели)\n",
        "\n",
        "Пример работы: https://github.com/otverskoj/streamlit-demo\n",
        "\n",
        "Пример с запуском из colab: https://colab.research.google.com/drive/14l-AZsmJYIpI4Oi8KDoGftHGsa4G_dlf?usp=sharing"
      ],
      "metadata": {
        "id": "HHbwfW-LhGYl"
      }
    },
    {
      "cell_type": "markdown",
      "source": [
        "Ознакомьтесь с материалом по ссылке: https://drive.google.com/file/d/1JXvI_B0SwUyM2eQZFhQ8-yyRb6l9XF4J/view?usp=share_link\n",
        "\n",
        "Сериализуйте вашу модель и представьте её с помощью `streamlit`. Дашборд должен содержать как минимум две страницы:\n",
        "- описание задачи и данных\n",
        "- страница с возможностью выполнить запрос к модели\n",
        "\n",
        "В дашборде достаточно использовать одну модель."
      ],
      "metadata": {
        "id": "IfT1ru1wWrGp"
      }
    }
  ]
}