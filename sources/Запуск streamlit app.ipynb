{
  "cells": [
    {
      "cell_type": "markdown",
      "metadata": {
        "id": "7yG-rF7C_sy4"
      },
      "source": [
        "# Инференс"
      ]
    },
    {
      "cell_type": "markdown",
      "metadata": {
        "id": "wLauzn_u_vDw"
      },
      "source": [
        "## Материалы"
      ]
    },
    {
      "cell_type": "markdown",
      "metadata": {
        "id": "kxcF6AAT_xsu"
      },
      "source": [
        "Материалы доступны по ссылке: https://drive.google.com/file/d/1JXvI_B0SwUyM2eQZFhQ8-yyRb6l9XF4J/view?usp=share_link\n",
        "\n",
        "В материалах описываются общие принципы работы со `streamlit`. В этом ноутбуке будет рассказано, как запустить проект в colab."
      ]
    },
    {
      "cell_type": "markdown",
      "metadata": {
        "id": "uraOOF-bAMjl"
      },
      "source": [
        "## Основная часть"
      ]
    },
    {
      "cell_type": "markdown",
      "metadata": {
        "id": "CA31aDD-ARSN"
      },
      "source": [
        "### Установка зависимостей"
      ]
    },
    {
      "cell_type": "code",
      "execution_count": null,
      "metadata": {
        "colab": {
          "base_uri": "https://localhost:8080/"
        },
        "id": "fnH9e7kNAS2B",
        "outputId": "b8e89956-1c26-4794-f356-e778112d8794"
      },
      "outputs": [
        {
          "name": "stdout",
          "output_type": "stream",
          "text": [
            "\u001b[2K     \u001b[90m━━━━━━━━━━━━━━━━━━━━━━━━━━━━━━━━━━━━━━━━\u001b[0m \u001b[32m9.7/9.7 MB\u001b[0m \u001b[31m41.0 MB/s\u001b[0m eta \u001b[36m0:00:00\u001b[0m\n",
            "\u001b[?25h  Preparing metadata (setup.py) ... \u001b[?25l\u001b[?25hdone\n",
            "\u001b[2K     \u001b[90m━━━━━━━━━━━━━━━━━━━━━━━━━━━━━━━━━━━━━━━━\u001b[0m \u001b[32m82.1/82.1 kB\u001b[0m \u001b[31m4.1 MB/s\u001b[0m eta \u001b[36m0:00:00\u001b[0m\n",
            "\u001b[2K     \u001b[90m━━━━━━━━━━━━━━━━━━━━━━━━━━━━━━━━━━━━━━━━\u001b[0m \u001b[32m4.8/4.8 MB\u001b[0m \u001b[31m45.7 MB/s\u001b[0m eta \u001b[36m0:00:00\u001b[0m\n",
            "\u001b[2K     \u001b[90m━━━━━━━━━━━━━━━━━━━━━━━━━━━━━━━━━━━━━━━\u001b[0m \u001b[32m164.8/164.8 kB\u001b[0m \u001b[31m9.3 MB/s\u001b[0m eta \u001b[36m0:00:00\u001b[0m\n",
            "\u001b[2K     \u001b[90m━━━━━━━━━━━━━━━━━━━━━━━━━━━━━━━━━━━━━━━\u001b[0m \u001b[32m184.3/184.3 kB\u001b[0m \u001b[31m3.5 MB/s\u001b[0m eta \u001b[36m0:00:00\u001b[0m\n",
            "\u001b[2K     \u001b[90m━━━━━━━━━━━━━━━━━━━━━━━━━━━━━━━━━━━━━━━━\u001b[0m \u001b[32m62.7/62.7 kB\u001b[0m \u001b[31m3.2 MB/s\u001b[0m eta \u001b[36m0:00:00\u001b[0m\n",
            "\u001b[?25h  Building wheel for validators (setup.py) ... \u001b[?25l\u001b[?25hdone\n"
          ]
        }
      ],
      "source": [
        "!pip install -q numpy pandas scikit-learn streamlit"
      ]
    },
    {
      "cell_type": "markdown",
      "metadata": {
        "id": "RVYL7HaoAguI"
      },
      "source": [
        "### Подготовка данных и модели"
      ]
    },
    {
      "cell_type": "markdown",
      "metadata": {
        "id": "JPKPP1ZrAuzo"
      },
      "source": [
        "Сейчас необходимо указать ссылки на сохранённые данные и модель на Вашем google-диске.\n",
        "\n",
        "Для начала подключим google-диск к нашему рабочему окружению."
      ]
    },
    {
      "cell_type": "code",
      "execution_count": null,
      "metadata": {
        "colab": {
          "base_uri": "https://localhost:8080/"
        },
        "id": "b-SjtGjf_xTn",
        "outputId": "479e01ec-6d88-4e6e-e8a3-c0ea0a0a7d89"
      },
      "outputs": [
        {
          "name": "stdout",
          "output_type": "stream",
          "text": [
            "Mounted at /content/drive\n"
          ]
        }
      ],
      "source": [
        "from google.colab import drive\n",
        "\n",
        "drive.mount('/content/drive')"
      ]
    },
    {
      "cell_type": "markdown",
      "metadata": {
        "id": "xg4JKtAeBJPE"
      },
      "source": [
        "Теперь укажем пути до наших файлов. Не забудьте разрешить к ним доступ!"
      ]
    },
    {
      "cell_type": "code",
      "execution_count": null,
      "metadata": {
        "id": "j5AaZTEu_nrX"
      },
      "outputs": [],
      "source": [
        "# путь до файла с предобработанными данными в формате csv\n",
        "data_path = \"https://drive.google.com/file/d/1Zm8viieM23EaHQ5kU9atdnLUm72HDd2H/view?usp=share_link\"\n",
        "\n",
        "# путь до файла с сериализованной моделью\n",
        "model_path = \"https://drive.google.com/file/d/1s9F0BJE2tKFVkDth5dO7FHkLa0MfH2ab/view?usp=share_link\""
      ]
    },
    {
      "cell_type": "markdown",
      "metadata": {
        "id": "IWbJLat2CQNM"
      },
      "source": [
        "Дальше будет немного \"магии\". Правда, немного :)\n",
        "\n",
        "**Этот фрагмент НЕ НУЖНО МЕНЯТЬ!!! Используйте как есть!**"
      ]
    },
    {
      "cell_type": "markdown",
      "metadata": {
        "id": "g_ht9_-7Du1v"
      },
      "source": [
        "#### Не влезай, убьёт!"
      ]
    },
    {
      "cell_type": "code",
      "execution_count": null,
      "metadata": {
        "colab": {
          "base_uri": "https://localhost:8080/"
        },
        "id": "JDitASriFHaH",
        "outputId": "f80cf205-efa5-443c-95aa-503cb71ba76f"
      },
      "outputs": [
        {
          "data": {
            "text/plain": [
              "0"
            ]
          },
          "execution_count": 4,
          "metadata": {},
          "output_type": "execute_result"
        }
      ],
      "source": [
        "import os\n",
        "\n",
        "\n",
        "id_slice = slice(32, 65)\n",
        "\n",
        "data_file_id = data_path[id_slice]\n",
        "model_file_id = model_path[id_slice]\n",
        "\n",
        "os.system(f\"wget -q -O preprocessed_data.csv https://drive.google.com/uc?id={data_file_id}\")\n",
        "os.system(f\"wget -q -O model.pkl https://drive.google.com/uc?id={model_file_id}\")"
      ]
    },
    {
      "cell_type": "markdown",
      "metadata": {
        "id": "0GfH74p-CaXa"
      },
      "source": [
        "### Приложение"
      ]
    },
    {
      "cell_type": "markdown",
      "metadata": {
        "id": "6VggHcyAFtji"
      },
      "source": [
        "Теперь в нашем окружении есть два файла:\n",
        "\n",
        "- `preprocessed_data.csv` -- файл с подготовленными данными\n",
        "- `model.pkl` -- файл с сериализованной моделью"
      ]
    },
    {
      "cell_type": "markdown",
      "metadata": {
        "id": "4HJbmr9vCcS1"
      },
      "source": [
        "Далее напишем код приложения. Советую добавить директиву `%%writefile app.py` только после того, как напишите весь код, чтобы была подстветка синтаксиса и ошибок."
      ]
    },
    {
      "cell_type": "code",
      "execution_count": null,
      "metadata": {
        "colab": {
          "base_uri": "https://localhost:8080/"
        },
        "id": "BObqUvobB9EW",
        "outputId": "05e7562a-9b37-4ee2-96ac-f2d147a2bddf"
      },
      "outputs": [
        {
          "name": "stdout",
          "output_type": "stream",
          "text": [
            "Writing app.py\n"
          ]
        }
      ],
      "source": [
        "%%writefile app.py\n",
        "import pickle\n",
        "\n",
        "import pandas as pd\n",
        "import numpy as np\n",
        "import streamlit as st\n",
        "\n",
        "\n",
        "def main():\n",
        "    model = load_model(\"model.pkl\")\n",
        "    test_data = load_test_data(\"preprocessed_data.csv\")\n",
        "\n",
        "    page = st.sidebar.selectbox(\n",
        "        \"Выберите страницу\",\n",
        "        [\"Описание задачи и данных\", \"Запрос к модели\"]\n",
        "    )\n",
        "\n",
        "    if page == \"Описание задачи и данных\":\n",
        "        st.title(\"Описание задачи и данных\")\n",
        "        st.write(\"Выберите страницу слева\")\n",
        "\n",
        "        st.header(\"Описание задачи\")\n",
        "        st.markdown(\"\"\"Розничная компания «ABC Private Limited» хочет понять покупательское поведение (в частности, сумму покупки) по отношению к различным продуктам разных категорий. Они поделились сводкой покупок различных клиентов для избранных продуктов большого объема за последний месяц.\n",
        "Набор данных также содержит демографические данные клиентов, сведения о продукте и общую сумму покупки за последний месяц.\n",
        "Теперь они хотят построить модель для прогнозирования количества покупок клиентов по различным продуктам, которая поможет им создавать персонализированные предложения для клиентов по разным продуктам.\"\"\")\n",
        "\n",
        "        st.header(\"Описание данных\")\n",
        "        st.markdown(\"\"\"Предоставленные данные:\n",
        "* User_ID – идентификатор покупателя,\n",
        "* Product_ID – идентификатор продукта,\n",
        "* Age – возраст покупателя,\n",
        "* Occupation – профессия покупателя,\n",
        "* City_Category – категория города,\n",
        "* Stay_In_Current_City_Years – количество лет пребывания покупателя в текущем городе,\n",
        "* Marital_Status – семейное положение покупателя,\n",
        "* Product_Category_1 – первая категория продукта,\n",
        "* Product_Category_2 – вторая категория продукта при ее наличии,\n",
        "* Product_Category_3 – третья категория продукта при ее наличии,\n",
        "* Purchase – сумма покупки.\n",
        "К категориальным признакам относятся:\n",
        "* пол покупателя принимает значения M, F, где значение M означает мужской пол, а значение F – женский пол;\n",
        "* возраст покупателя принимает значения 0-17, 18-25, 26-35, 36-45, 46-50, 51-55, 55+;\n",
        "* профессия покупателя принимает значения от 0 до 20, где значение 0 означает отсутствие профессии у покупателя, остальные значения означают код профессии;\n",
        "* категория города принимает значения A, B, C;\n",
        "* категории продукта принимают значения кодов категорий продуктов, причем продукт всегда имеет хотя бы одну категорию и ее значение записывается в признаке Product_Category_1, если продукт относится еще к каким-либо категориям, то код таких категорий записывается в признаках Product_Category_2 и Product_Category_3 соответственно.\n",
        "К порядковым признакам относится возраст покупателя, данный признак принимает значения 0-17, 18-25, 26-35, 36-45, 46-50, 51-55, 55+.\n",
        "К бинарным признакам относятся:\n",
        "* пол покупателя принимает значения M, F, где значение M (0) означает мужской пол, а значение F (1) – женский пол;\n",
        "* семейное положение покупателя, данный признак принимает значения 0 и 1, где значение 1 означает, что покупатель состоит в браке, значение 0 – не состоит в браке.\n",
        "К вещественным признакам относятся:\n",
        "* идентификатор покупателя,\n",
        "* идентификатор продукта,\n",
        "* сумма покупки.\"\"\")\n",
        "\n",
        "    elif page == \"Запрос к модели\":\n",
        "        st.title(\"Запрос к модели\")\n",
        "        st.write(\"Выберите страницу слева\")\n",
        "        request = st.selectbox(\n",
        "            \"Выберите запрос\",\n",
        "            [\"RMSE\", \"Первые 5 предсказанных значений\", \"Пользовательский пример\", \"Пасхалка\"]\n",
        "        )\n",
        "\n",
        "        if request == \"RMSE\":\n",
        "            st.header(\"Корень из среднеквадратичной ошибки\")\n",
        "            rmse = 3006.55  # Костыль! Заменить на настоящий подсчёт метрики\n",
        "            st.write(f\"{rmse}\")\n",
        "        elif request == \"Первые 5 предсказанных значений\":\n",
        "            st.header(\"Первые 5 предсказанных значений\")\n",
        "            first_5_test = test_data.iloc[:5, :]\n",
        "            first_5_pred = model.predict(first_5_test)\n",
        "            for item in first_5_pred:\n",
        "                st.write(f\"{item:.2f}\")\n",
        "        elif request == \"Пользовательский пример\":\n",
        "            st.header(\"Пользовательский пример\")\n",
        "\n",
        "            gender = st.selectbox(\"Пол\", ['М', 'Ж'])\n",
        "            gender = 0 if gender == 'М' else 1\n",
        "\n",
        "            age = st.number_input(\"Возраст\", 0, 100)\n",
        "            age = 0 if age >= 55 else 1\n",
        "\n",
        "            city = st.selectbox(\"Город\", ['A', 'B', 'C'])\n",
        "            city = 0 if city == 'C' else 1\n",
        "\n",
        "            stay_in_city = st.selectbox(\"Количество лет в городе\", ['1', '2', '3', '4+'])\n",
        "            stay_in_city = 0 if stay_in_city == '4+' else 1\n",
        "\n",
        "            marital_status = st.selectbox(\"Семейное положение (в браке - 1, иначе - 0)\", [0, 1])\n",
        "            marital_status = int(marital_status)\n",
        "\n",
        "            occupation = st.number_input(\"Код профессии от 0 до 20\", 0, 19)\n",
        "            one_hot_occup = []\n",
        "            for num in range(0, 20):\n",
        "                if num == occupation:\n",
        "                    one_hot_occup.append(1)\n",
        "                else:\n",
        "                    one_hot_occup.append(0)\n",
        "\n",
        "            category = st.number_input(\"Категория  от 0 до 20\", 0, 20)\n",
        "            one_hot_cat = []\n",
        "            for num in range(0, 21):\n",
        "                if num == category:\n",
        "                    one_hot_cat.append(1)\n",
        "                else:\n",
        "                    one_hot_cat.append(0)\n",
        "\n",
        "            if st.button('Предсказать'):\n",
        "                data = [gender, age, city, stay_in_city, marital_status]\n",
        "                for item in one_hot_occup + one_hot_cat:\n",
        "                    data.append(item)\n",
        "                data = np.array(data).reshape((1, -1))\n",
        "                pred = model.predict(data)\n",
        "                st.write(f\"Предсказанное значение: {pred[0]:.2f}\")\n",
        "            else:\n",
        "                pass\n",
        "\n",
        "        elif request == \"Пасхалка\":\n",
        "            st.header(\"Пасхалка\")\n",
        "            st.write(\":)\")\n",
        "\n",
        "\n",
        "@st.cache_data\n",
        "def load_model(path_to_file):\n",
        "    with open(path_to_file, 'rb') as model_file:\n",
        "        model = pickle.load(model_file)\n",
        "    return model\n",
        "\n",
        "\n",
        "@st.cache_data\n",
        "def load_test_data(path_to_file):\n",
        "    df = pd.read_csv(path_to_file, index_col='Unnamed: 0')\n",
        "    df = df.drop(labels=['Product_ID'], axis=1)\n",
        "    return df\n",
        "\n",
        "\n",
        "if __name__ == \"__main__\":\n",
        "    main()"
      ]
    },
    {
      "cell_type": "markdown",
      "metadata": {
        "id": "1I9S1wnWGXJq"
      },
      "source": [
        "### Запуск приложения"
      ]
    },
    {
      "cell_type": "markdown",
      "metadata": {
        "id": "-K1zFra6GZ84"
      },
      "source": [
        "Здесь содержится код для запуска вашего приложения.\n",
        "\n",
        "**Его не нужно менять! Используйте как есть!**"
      ]
    },
    {
      "cell_type": "markdown",
      "metadata": {
        "id": "FoWWZIzpG-W3"
      },
      "source": [
        "После запуска всех нижестоящих ячеек Вам достаточно перейти по появившемуся URL, нажать на синюю кнопку \"Click to Continue\" (если она есть) и всё, ваше приложение запущено!"
      ]
    },
    {
      "cell_type": "markdown",
      "metadata": {
        "id": "0Tw3tFh7GiKy"
      },
      "source": [
        "#### Сюда тоже не влезай!"
      ]
    },
    {
      "cell_type": "code",
      "execution_count": null,
      "metadata": {
        "colab": {
          "base_uri": "https://localhost:8080/"
        },
        "id": "DfrR-tOgGZg0",
        "outputId": "f43c1e17-b73f-4eee-e0f1-2b6298e79101"
      },
      "outputs": [
        {
          "name": "stdout",
          "output_type": "stream",
          "text": [
            "\u001b[K\u001b[?25h\u001b[37;40mnpm\u001b[0m \u001b[0m\u001b[30;43mWARN\u001b[0m \u001b[0m\u001b[35msaveError\u001b[0m ENOENT: no such file or directory, open '/content/package.json'\n",
            "\u001b[K\u001b[?25h\u001b[37;40mnpm\u001b[0m \u001b[0m\u001b[34;40mnotice\u001b[0m\u001b[35m\u001b[0m created a lockfile as package-lock.json. You should commit this file.\n",
            "\u001b[0m\u001b[37;40mnpm\u001b[0m \u001b[0m\u001b[30;43mWARN\u001b[0m \u001b[0m\u001b[35menoent\u001b[0m ENOENT: no such file or directory, open '/content/package.json'\n",
            "\u001b[0m\u001b[37;40mnpm\u001b[0m \u001b[0m\u001b[30;43mWARN\u001b[0m\u001b[35m\u001b[0m content No description\n",
            "\u001b[0m\u001b[37;40mnpm\u001b[0m \u001b[0m\u001b[30;43mWARN\u001b[0m\u001b[35m\u001b[0m content No repository field.\n",
            "\u001b[0m\u001b[37;40mnpm\u001b[0m \u001b[0m\u001b[30;43mWARN\u001b[0m\u001b[35m\u001b[0m content No README data\n",
            "\u001b[0m\u001b[37;40mnpm\u001b[0m \u001b[0m\u001b[30;43mWARN\u001b[0m\u001b[35m\u001b[0m content No license field.\n",
            "\u001b[0m\n",
            "+ localtunnel@2.0.2\n",
            "added 22 packages from 22 contributors and audited 22 packages in 2.548s\n",
            "\n",
            "3 packages are looking for funding\n",
            "  run `npm fund` for details\n",
            "\n",
            "found \u001b[92m0\u001b[0m vulnerabilities\n",
            "\n",
            "\u001b[K\u001b[?25h"
          ]
        }
      ],
      "source": [
        "!npm install localtunnel"
      ]
    },
    {
      "cell_type": "code",
      "execution_count": null,
      "metadata": {
        "id": "JTRGgJEFG0zC"
      },
      "outputs": [],
      "source": [
        "!streamlit run /content/app.py &>/content/logs.txt &"
      ]
    },
    {
      "cell_type": "code",
      "execution_count": null,
      "metadata": {
        "colab": {
          "background_save": true,
          "base_uri": "https://localhost:8080/"
        },
        "id": "rc9EnPtaG1Jn",
        "outputId": "18c1a96a-7438-4801-d14d-0831a6f9c11a"
      },
      "outputs": [
        {
          "name": "stdout",
          "output_type": "stream",
          "text": [
            "\u001b[K\u001b[?25hnpx: installed 22 in 2.675s\n",
            "your url is: https://big-women-accept-34-125-124-235.loca.lt\n"
          ]
        }
      ],
      "source": [
        "!npx localtunnel --port 8501"
      ]
    },
    {
      "cell_type": "markdown",
      "metadata": {
        "id": "-Od1hf4sMq8L"
      },
      "source": [
        "## Задание"
      ]
    },
    {
      "cell_type": "markdown",
      "metadata": {
        "id": "otStvwAfMuei"
      },
      "source": [
        "Ноутбук с заданием: https://colab.research.google.com/drive/14RCvj9J_o3wVulS7DcNMl6iWepzyWRy-?usp=sharing"
      ]
    }
  ],
  "metadata": {
    "colab": {
      "collapsed_sections": [
        "g_ht9_-7Du1v"
      ],
      "provenance": []
    },
    "kernelspec": {
      "display_name": "Python 3",
      "name": "python3"
    },
    "language_info": {
      "name": "python"
    }
  },
  "nbformat": 4,
  "nbformat_minor": 0
}